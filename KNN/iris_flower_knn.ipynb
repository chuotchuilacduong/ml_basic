{
 "cells": [
  {
   "cell_type": "code",
   "execution_count": 5,
   "id": "be90abfc-577d-49c3-a9a1-33be82ff3282",
   "metadata": {},
   "outputs": [],
   "source": [
    "import numpy as np\n",
    "from sklearn import neighbors, datasets\n",
    "from sklearn.model_selection import train_test_split\n",
    "from sklearn.metrics import accuracy_score\n",
    "iris= datasets.load_iris()\n",
    "iris_X= iris.data\n",
    "iris_y= iris.target"
   ]
  },
  {
   "cell_type": "code",
   "execution_count": 7,
   "id": "69b48e6a-5f3c-49b9-a292-839e25487f36",
   "metadata": {},
   "outputs": [
    {
     "name": "stdout",
     "output_type": "stream",
     "text": [
      " Training size: 20 , test size 130\n"
     ]
    }
   ],
   "source": [
    "np.random.seed(7)\n",
    "X_train, X_test, y_train, y_test= train_test_split(\n",
    "    iris_X, iris_y, test_size=130)\n",
    "print(' Training size:', X_train.shape[0], ', test size', X_test.shape[0])"
   ]
  },
  {
   "cell_type": "code",
   "execution_count": 17,
   "id": "bed5d5b8-13dd-4960-bb7d-0f8f619f076a",
   "metadata": {},
   "outputs": [
    {
     "name": "stdout",
     "output_type": "stream",
     "text": [
      "Accuracy of 1NN: 92.31 %\n"
     ]
    }
   ],
   "source": [
    "model= neighbors.KNeighborsClassifier(n_neighbors=1,p=2)\n",
    "model.fit(X_train,y_train)\n",
    "y_pred= model.predict(X_test)\n",
    "print(\"Accuracy of 1NN: %.2f %%\" %(100*accuracy_score(y_test, y_pred)))"
   ]
  },
  {
   "cell_type": "code",
   "execution_count": 31,
   "id": "5c291c52-7457-4731-9c02-74bcaab96bec",
   "metadata": {},
   "outputs": [
    {
     "name": "stdout",
     "output_type": "stream",
     "text": [
      "accuracy of &NN: 94.62 %\n"
     ]
    }
   ],
   "source": [
    "model= neighbors.KNeighborsClassifier(n_neighbors=7, p=2, weights= 'distance')\n",
    "model.fit(X_train, y_train)\n",
    "y_pred=model.predict(X_test)\n",
    "print(\"accuracy of &NN: %.2f %%\" %( 100*accuracy_score(y_test,y_pred)))"
   ]
  },
  {
   "cell_type": "code",
   "execution_count": 41,
   "id": "3d022178-dd5e-4d15-b30f-c1db99a4284d",
   "metadata": {},
   "outputs": [
    {
     "name": "stdout",
     "output_type": "stream",
     "text": [
      "accuracy of &NN: 95.38 %\n"
     ]
    }
   ],
   "source": [
    "def myweight(distances):\n",
    "    sigma2=.4\n",
    "    return np.exp(-distances**2/sigma2)\n",
    "model= neighbors.KNeighborsClassifier(n_neighbors=7, p=2, weights= myweight)\n",
    "model.fit(X_train, y_train)\n",
    "y_pred=model.predict(X_test)\n",
    "print(\"accuracy of &NN: %.2f %%\" %( 100*accuracy_score(y_test,y_pred)))"
   ]
  },
  {
   "cell_type": "code",
   "execution_count": null,
   "id": "b64c9e93-62a1-4919-9fd4-c80a366e0b3b",
   "metadata": {},
   "outputs": [],
   "source": []
  }
 ],
 "metadata": {
  "kernelspec": {
   "display_name": "Python 3 (ipykernel)",
   "language": "python",
   "name": "python3"
  },
  "language_info": {
   "codemirror_mode": {
    "name": "ipython",
    "version": 3
   },
   "file_extension": ".py",
   "mimetype": "text/x-python",
   "name": "python",
   "nbconvert_exporter": "python",
   "pygments_lexer": "ipython3",
   "version": "3.12.4"
  }
 },
 "nbformat": 4,
 "nbformat_minor": 5
}
