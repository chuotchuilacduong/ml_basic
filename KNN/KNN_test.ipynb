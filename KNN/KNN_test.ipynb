{
 "cells": [
  {
   "cell_type": "code",
   "execution_count": 31,
   "id": "85fba41b-488f-463b-bcad-2a2390752cbf",
   "metadata": {},
   "outputs": [],
   "source": [
    "from __future__ import print_function\n",
    "import numpy as np\n",
    "from time import time\n",
    "d,N= 1000,10000\n",
    "X= np.random.randn(N,d)\n",
    "z=np.random.randn(d)"
   ]
  },
  {
   "cell_type": "code",
   "execution_count": 32,
   "id": "6028ec72-3314-40ee-abee-03c7e7b865f2",
   "metadata": {},
   "outputs": [],
   "source": [
    "def dist_pp(z,x):\n",
    "    d= z- x.reshape(z.shape)\n",
    "    return np.sum(d*d)\n",
    "def dist_ps_naive(z,X):\n",
    "    N= X.shape[0]\n",
    "    res = p.zeros((1,N))\n",
    "    for i in range(N):\n",
    "        res[0][i]= dist_pp(z, X[i])\n",
    "    return res"
   ]
  },
  {
   "cell_type": "code",
   "execution_count": 33,
   "id": "372dbc88-df32-481c-ab89-8b1fe1174164",
   "metadata": {},
   "outputs": [
    {
     "name": "stdout",
     "output_type": "stream",
     "text": [
      "naive point2set, running time: 0.031705379486083984 s\n",
      "fast point2set , running time: 0.026273250579833984 s\n",
      "Result difference: 0.0\n"
     ]
    }
   ],
   "source": [
    "def dist_ps_fast(z,X):\n",
    "    X2= np.sum(X*X,1)\n",
    "    z2= np.sum(z*z)\n",
    "    return X2+z2  -2*X.dot(z)\n",
    "t1= time()\n",
    "D1= dist_ps_fast(z,X)\n",
    "print('naive point2set, running time:', time() - t1, 's')\n",
    "t1 = time()\n",
    "D2 = dist_ps_fast(z, X)\n",
    "print('fast point2set , running time:', time() - t1, 's')\n",
    "print('Result difference:', np.linalg.norm(D1 - D2))"
   ]
  },
  {
   "cell_type": "code",
   "execution_count": 50,
   "id": "0f247f39-edc9-422c-a212-a1b6938a3008",
   "metadata": {},
   "outputs": [],
   "source": [
    "Z= np.random.randn(100,d)\n",
    "def dist_ss_0(Z,X):\n",
    "    M,N = Z.shape[0], X.shape[0]\n",
    "    res= np.zeros((M,N))\n",
    "    for i in range(M):\n",
    "        res[i] = dist_ps_fast(Z[i],X)\n",
    "    return res "
   ]
  },
  {
   "cell_type": "code",
   "execution_count": 52,
   "id": "d0cd28f5-f966-4eeb-9186-29de777cc018",
   "metadata": {},
   "outputs": [
    {
     "name": "stdout",
     "output_type": "stream",
     "text": [
      "half fast set2set running time: 3.3526551723480225 s\n",
      "fast set2set running time 0.058515071868896484 s\n",
      "Result difference: 1.2797623855469625e-10\n"
     ]
    }
   ],
   "source": [
    "def dist_ss_fast(Z,X):\n",
    "    X2= np.sum(X*X,1)\n",
    "    Z2=np.sum(Z*Z,1)\n",
    "    return Z2.reshape(-1,1) + X2.reshape(1,-1)-2*Z.dot(X.T)\n",
    "t1= time()\n",
    "D3= dist_ss_0(Z,X)\n",
    "print('half fast set2set running time:', time() - t1, 's')\n",
    "t1 = time()\n",
    "D4 = dist_ss_fast(Z, X)\n",
    "print('fast set2set running time', time() - t1, 's')\n",
    "print('Result difference:', np.linalg.norm(D3 - D4))"
   ]
  },
  {
   "cell_type": "code",
   "execution_count": null,
   "id": "46447706-b122-43d3-a85f-ab5fc711e9ae",
   "metadata": {},
   "outputs": [],
   "source": []
  }
 ],
 "metadata": {
  "kernelspec": {
   "display_name": "Python 3 (ipykernel)",
   "language": "python",
   "name": "python3"
  },
  "language_info": {
   "codemirror_mode": {
    "name": "ipython",
    "version": 3
   },
   "file_extension": ".py",
   "mimetype": "text/x-python",
   "name": "python",
   "nbconvert_exporter": "python",
   "pygments_lexer": "ipython3",
   "version": "3.12.4"
  }
 },
 "nbformat": 4,
 "nbformat_minor": 5
}
